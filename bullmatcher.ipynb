{
 "cells": [
  {
   "cell_type": "markdown",
   "metadata": {},
   "source": [
    "Notes\n",
    "\n",
    "- Need better tattoo information to pull data from angus association on pedigree"
   ]
  },
  {
   "cell_type": "code",
   "execution_count": 1,
   "metadata": {
    "collapsed": true
   },
   "outputs": [],
   "source": [
    "import pandas as pd\n",
    "import numpy as np"
   ]
  },
  {
   "cell_type": "code",
   "execution_count": 2,
   "metadata": {
    "collapsed": true
   },
   "outputs": [],
   "source": [
    "def normalize(df):\n",
    "    return (df - df.mean()) / df.std()"
   ]
  },
  {
   "cell_type": "code",
   "execution_count": 3,
   "metadata": {
    "collapsed": false
   },
   "outputs": [],
   "source": [
    "bulls = pd.read_excel('./2016AI.xlsx', 'bulls').dropna()\n",
    "cows = pd.read_excel('./2016AI.xlsx', 'cows')\n",
    "cows = cows.set_index('Anm Tag')\n",
    "\n",
    "test_bulls = bulls.dropna().pivot(2,0, )\n",
    "\n",
    "test_bulls.columns = test_bulls.columns.levels[1]\n",
    "\n",
    "trait_cols = test_bulls.columns[1:]\n",
    "cow_data = normalize(cows[trait_cols])\n",
    "bull_data = normalize(test_bulls[trait_cols])"
   ]
  },
  {
   "cell_type": "code",
   "execution_count": 4,
   "metadata": {
    "collapsed": false
   },
   "outputs": [],
   "source": [
    "recommendations = cow_data.dot(bull_data.T)\n",
    "recommendations.to_excel('test_matches.xlsx')"
   ]
  },
  {
   "cell_type": "code",
   "execution_count": null,
   "metadata": {
    "collapsed": true
   },
   "outputs": [],
   "source": []
  }
 ],
 "metadata": {
  "kernelspec": {
   "display_name": "Python 2",
   "language": "python",
   "name": "python2"
  },
  "language_info": {
   "codemirror_mode": {
    "name": "ipython",
    "version": 2
   },
   "file_extension": ".py",
   "mimetype": "text/x-python",
   "name": "python",
   "nbconvert_exporter": "python",
   "pygments_lexer": "ipython2",
   "version": "2.7.11+"
  }
 },
 "nbformat": 4,
 "nbformat_minor": 0
}
